{
 "cells": [
  {
   "cell_type": "markdown",
   "id": "a97b8fc4",
   "metadata": {},
   "source": [
    "# An exercise on biological modelling using Python\n",
    "\n",
    "#### HIV Example\n",
    "\n",
    "We will focus on a model of the viral load. Here V(t) is the concentration of virus. A, $\\alpha$, B and $\\beta$ are the paramterers. \n",
    "\n",
    "$$ V(t) = A exp(-\\alpha t) + B exp(-\\beta t) $$\n",
    "\n",
    "### 1. Exploring the model"
   ]
  },
  {
   "cell_type": "code",
   "execution_count": 1,
   "id": "d4a5729e",
   "metadata": {},
   "outputs": [],
   "source": [
    "import numpy as np\n",
    "import matplotlib.pyplot as plt\n",
    "import ipywidgets as widgets"
   ]
  },
  {
   "cell_type": "code",
   "execution_count": 2,
   "id": "3f7f1a2f",
   "metadata": {},
   "outputs": [
    {
     "data": {
      "text/plain": [
       "array([ 0. ,  0.1,  0.2,  0.3,  0.4,  0.5,  0.6,  0.7,  0.8,  0.9,  1. ,\n",
       "        1.1,  1.2,  1.3,  1.4,  1.5,  1.6,  1.7,  1.8,  1.9,  2. ,  2.1,\n",
       "        2.2,  2.3,  2.4,  2.5,  2.6,  2.7,  2.8,  2.9,  3. ,  3.1,  3.2,\n",
       "        3.3,  3.4,  3.5,  3.6,  3.7,  3.8,  3.9,  4. ,  4.1,  4.2,  4.3,\n",
       "        4.4,  4.5,  4.6,  4.7,  4.8,  4.9,  5. ,  5.1,  5.2,  5.3,  5.4,\n",
       "        5.5,  5.6,  5.7,  5.8,  5.9,  6. ,  6.1,  6.2,  6.3,  6.4,  6.5,\n",
       "        6.6,  6.7,  6.8,  6.9,  7. ,  7.1,  7.2,  7.3,  7.4,  7.5,  7.6,\n",
       "        7.7,  7.8,  7.9,  8. ,  8.1,  8.2,  8.3,  8.4,  8.5,  8.6,  8.7,\n",
       "        8.8,  8.9,  9. ,  9.1,  9.2,  9.3,  9.4,  9.5,  9.6,  9.7,  9.8,\n",
       "        9.9, 10. ])"
      ]
     },
     "execution_count": 2,
     "metadata": {},
     "output_type": "execute_result"
    }
   ],
   "source": [
    "time = np.linspace(0, 10, 101)\n",
    "time"
   ]
  },
  {
   "cell_type": "code",
   "execution_count": 3,
   "id": "5644ab7b",
   "metadata": {},
   "outputs": [],
   "source": [
    "def viral_load(A, alpha, B, beta):\n",
    "    time = np.linspace(0, 10, 101)\n",
    "    vt = A*np.exp(-1*alpha*time) + B*np.exp(-1*beta*time)\n",
    "    plt.plot(time, vt)"
   ]
  },
  {
   "cell_type": "code",
   "execution_count": 4,
   "id": "c098ccf4",
   "metadata": {},
   "outputs": [
    {
     "data": {
      "application/vnd.jupyter.widget-view+json": {
       "model_id": "d894c17882eb4f1c8245a780cbc67795",
       "version_major": 2,
       "version_minor": 0
      },
      "text/plain": [
       "interactive(children=(IntSlider(value=0, description='A', max=10, min=-10), FloatSlider(value=0.0, description…"
      ]
     },
     "metadata": {},
     "output_type": "display_data"
    },
    {
     "data": {
      "text/plain": [
       "<function __main__.viral_load(A, alpha, B, beta)>"
      ]
     },
     "execution_count": 4,
     "metadata": {},
     "output_type": "execute_result"
    }
   ],
   "source": [
    "# Exploring how each parameter affects the curve.\n",
    "widgets.interact(viral_load, A=(-10, 10), alpha = (-1, 1,0.1), B = (-10, 10), beta = (-1, 1,0.1))"
   ]
  },
  {
   "cell_type": "markdown",
   "id": "221f7dfd",
   "metadata": {},
   "source": [
    "### 2. Data fitting through manual inspection"
   ]
  },
  {
   "cell_type": "code",
   "execution_count": 5,
   "id": "014716b4",
   "metadata": {},
   "outputs": [],
   "source": [
    "hiv_data = np.loadtxt('pmls-data/01-HIVseries/HIVseries.csv', delimiter=',')"
   ]
  },
  {
   "cell_type": "code",
   "execution_count": 6,
   "id": "62ba7af8",
   "metadata": {},
   "outputs": [],
   "source": [
    "days, viload = hiv_data[:,0], hiv_data[:,1]"
   ]
  },
  {
   "cell_type": "code",
   "execution_count": 7,
   "id": "503198ef",
   "metadata": {},
   "outputs": [
    {
     "data": {
      "text/plain": [
       "[<matplotlib.lines.Line2D at 0x11a5ec790>]"
      ]
     },
     "execution_count": 7,
     "metadata": {},
     "output_type": "execute_result"
    },
    {
     "data": {
      "image/png": "[encoded data removed]",
      "text/plain": [
       "<Figure size 432x288 with 1 Axes>"
      ]
     },
     "metadata": {
      "needs_background": "light"
     },
     "output_type": "display_data"
    }
   ],
   "source": [
    "plt.plot(days, viload, 'ro')\n",
    "plt.xlabel('Time as number of days')\n",
    "plt.ylabel('Viral Load')\n",
    "\n",
    "time_in_days = np.linspace(0, 7, 71)\n",
    "\n",
    "# Manually adjust the parameters to fit the experimental data\n",
    "A, alpha, B, beta = 2e5, 0.6, -1e5, 70\n",
    "vt = A*np.exp(-1*alpha*time_in_days) + B*np.exp(-1*beta*time_in_days)\n",
    "\n",
    "plt.plot(time_in_days, vt)"
   ]
  },
  {
   "cell_type": "markdown",
   "id": "be8c5ee6",
   "metadata": {},
   "source": [
    "### 3. Another example on exploring the model\n",
    "\n",
    "#### Genetic switching in bacteria"
   ]
  },
  {
   "cell_type": "code",
   "execution_count": 8,
   "id": "25170ce6",
   "metadata": {},
   "outputs": [
    {
     "data": {
      "application/vnd.jupyter.widget-view+json": {
       "model_id": "19fae05be7aa471db4cb3a5b8af19678",
       "version_major": 2,
       "version_minor": 0
      },
      "text/plain": [
       "interactive(children=(FloatSlider(value=0.9, description='tau', max=2.0, min=0.1, step=0.2), Output()), _dom_c…"
      ]
     },
     "metadata": {},
     "output_type": "display_data"
    },
    {
     "data": {
      "text/plain": [
       "<function __main__.V(tau)>"
      ]
     },
     "execution_count": 8,
     "metadata": {},
     "output_type": "execute_result"
    }
   ],
   "source": [
    "def V(tau):\n",
    "    time = np.linspace(0, 2, 101)\n",
    "    v = (1-np.exp(-1*time/tau))\n",
    "    plt.plot(time, v)\n",
    "\n",
    "def W(A, tau):\n",
    "    time = np.linspace(0, 2, 101)\n",
    "    w = A*(np.exp(-1*time/tau) -1 + time/tau)\n",
    "    plt.plot(time, w)\n",
    "\n",
    "widgets.interact(V, tau=(0.1, 2, 0.2))"
   ]
  },
  {
   "cell_type": "code",
   "execution_count": 9,
   "id": "4dabbf50",
   "metadata": {},
   "outputs": [
    {
     "data": {
      "application/vnd.jupyter.widget-view+json": {
       "model_id": "a9fcf711d35744da88a9ced009047088",
       "version_major": 2,
       "version_minor": 0
      },
      "text/plain": [
       "interactive(children=(IntSlider(value=0, description='A', max=10, min=-10), FloatSlider(value=1.0, description…"
      ]
     },
     "metadata": {},
     "output_type": "display_data"
    },
    {
     "data": {
      "text/plain": [
       "<function __main__.W(A, tau)>"
      ]
     },
     "execution_count": 9,
     "metadata": {},
     "output_type": "execute_result"
    }
   ],
   "source": [
    "widgets.interact(W, A=(-10, 10), tau=(0.1, 2, 0.1))"
   ]
  },
  {
   "cell_type": "markdown",
   "id": "30bd742e",
   "metadata": {},
   "source": [
    "#### Practise plotting"
   ]
  },
  {
   "cell_type": "code",
   "execution_count": 10,
   "id": "c31c3e4f",
   "metadata": {},
   "outputs": [
    {
     "data": {
      "text/plain": [
       "Text(0.5, 1.0, 'Novick-Weiner experiment')"
      ]
     },
     "execution_count": 10,
     "metadata": {},
     "output_type": "execute_result"
    },
    {
     "data": {
      "image/png": "[encoded data removed]",
      "text/plain": [
       "<Figure size 576x432 with 1 Axes>"
      ]
     },
     "metadata": {
      "needs_background": "light"
     },
     "output_type": "display_data"
    }
   ],
   "source": [
    "time = np.linspace(0, 2, 101)\n",
    "\n",
    "def Vfunc(time, tau):\n",
    "    v = (1-np.exp(-1*time/tau))\n",
    "    return v\n",
    "\n",
    "def Wfunc(time, A, tau):\n",
    "    w = A*(np.exp(-1*time/tau) -1 + time/tau)\n",
    "    return w\n",
    "\n",
    "plt.figure(figsize = (8,6))\n",
    "ax = plt.gca()\n",
    "ax.plot(time, Wfunc(time, 1, 1), color='black', linewidth=2, linestyle='dotted') \n",
    "ax.plot(time, Wfunc(time, 0.5, 0.2), 'r--')\n",
    "ax.plot(time, Wfunc(time, 2, 0.2), 'g.-')\n",
    "ax.plot(time, Wfunc(time, 0.5, 2), 'b-.')\n",
    "ax.plot(time, Wfunc(time, 2, 2), 'y.')\n",
    "ax.set_xlabel('Time')\n",
    "ax.set_ylabel('W')\n",
    "ax.legend(('W0-1,1', 'W1-0.5,0.2', 'W2-2,0.2', 'W3-0.5,2', 'W4-2,2'))\n",
    "ax.set_title('Novick-Weiner experiment')"
   ]
  },
  {
   "cell_type": "markdown",
   "id": "e7f825a7",
   "metadata": {},
   "source": [
    "### 4. Manual inspection and parameter guessing for model fitting"
   ]
  },
  {
   "cell_type": "code",
   "execution_count": 11,
   "id": "9ff9b462",
   "metadata": {},
   "outputs": [],
   "source": [
    "# Loading the data\n",
    "novickA_data = np.loadtxt('pmls-data/15novick/g149novickA.csv', delimiter=',')\n",
    "time_exp, V_exp = novickA_data[:,0], novickA_data[:,1]"
   ]
  },
  {
   "cell_type": "code",
   "execution_count": 12,
   "id": "299d1cc0",
   "metadata": {},
   "outputs": [
    {
     "data": {
      "text/plain": [
       "<matplotlib.legend.Legend at 0x11a4da520>"
      ]
     },
     "execution_count": 12,
     "metadata": {},
     "output_type": "execute_result"
    },
    {
     "data": {
      "image/png": "[encoded data removed]",
      "text/plain": [
       "<Figure size 432x288 with 1 Axes>"
      ]
     },
     "metadata": {
      "needs_background": "light"
     },
     "output_type": "display_data"
    }
   ],
   "source": [
    "## Fitting theoretical curve to the experimental data\n",
    "plt.plot(time_exp, V_exp, 'ro')\n",
    "\n",
    "# heoretical curve\n",
    "t_min = min(time_exp); t_max = max(time_exp)\n",
    "time_theory = np.linspace(t_min, t_max, 50)\n",
    "V_theory = Vfunc(time_theory, 3.5)\n",
    "\n",
    "ax = plt.gca()\n",
    "ax.plot(time_theory, V_theory, 'k-')\n",
    "ax.set_xlabel('Time')\n",
    "ax.set_ylabel('V')\n",
    "ax.legend(('Expt', 'Fit'))"
   ]
  },
  {
   "cell_type": "code",
   "execution_count": 13,
   "id": "75cbe470",
   "metadata": {},
   "outputs": [],
   "source": [
    "# Loading data\n",
    "novickB_data = np.loadtxt('pmls-data/15novick/g149novickB.csv', delimiter=',')\n",
    "\n",
    "time_exp , W_exp = novickB_data[:,0], novickB_data[:,1]\n",
    "\n",
    "# Filtering the data\n",
    "time_exp_filter = time_exp[time_exp <= 10]\n",
    "W_exp_filter = W_exp[time_exp <=10]"
   ]
  },
  {
   "cell_type": "code",
   "execution_count": 14,
   "id": "3cc469f4",
   "metadata": {},
   "outputs": [
    {
     "data": {
      "text/plain": [
       "<matplotlib.legend.Legend at 0x11a754340>"
      ]
     },
     "execution_count": 14,
     "metadata": {},
     "output_type": "execute_result"
    },
    {
     "data": {
      "image/png": "[encoded data removed]",
      "text/plain": [
       "<Figure size 432x288 with 1 Axes>"
      ]
     },
     "metadata": {
      "needs_background": "light"
     },
     "output_type": "display_data"
    }
   ],
   "source": [
    "plt.plot(time_exp_filter, W_exp_filter, 'bo')\n",
    "ax = plt.gca()\n",
    "\n",
    "time_theory = np.linspace(np.min(time_exp), 10, 50)\n",
    "W_theory = Wfunc(time_theory, 2, 26)\n",
    "\n",
    "ax.plot(time_theory, W_theory, 'k-')\n",
    "ax.set_xlabel('Time')\n",
    "ax.set_ylabel('W')\n",
    "ax.legend(('Exp', 'Fit'))"
   ]
  },
  {
   "cell_type": "code",
   "execution_count": null,
   "id": "9470ba57",
   "metadata": {},
   "outputs": [],
   "source": []
  }
 ],
 "metadata": {
  "kernelspec": {
   "display_name": "Python 3 (ipykernel)",
   "language": "python",
   "name": "python3"
  },
  "language_info": {
   "codemirror_mode": {
    "name": "ipython",
    "version": 3
   },
   "file_extension": ".py",
   "mimetype": "text/x-python",
   "name": "python",
   "nbconvert_exporter": "python",
   "pygments_lexer": "ipython3",
   "version": "3.9.7"
  }
 },
 "nbformat": 4,
 "nbformat_minor": 5
}
